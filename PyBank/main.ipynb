{
 "cells": [
  {
   "cell_type": "code",
   "execution_count": 22,
   "id": "be1e4e76-2ad2-4cde-b5fb-ad81890aa321",
   "metadata": {},
   "outputs": [
    {
     "name": "stdout",
     "output_type": "stream",
     "text": [
      "Financial Analysis\n",
      "----------------------\n",
      "Total Months: 86\n",
      "Total: $38382578\n",
      "Average Change: $-2315.12\n",
      "Greatest Increase in Profits: Feb-2012 ($1926159)\n",
      "Greatest Decrease in Profits: Sep-2013 ($-2196167)\n"
     ]
    }
   ],
   "source": [
    "from pathlib import Path\n",
    "import csv\n",
    "csvpath = Path('C:/Users/jonat/uofm-virt-fin-pt-12-2021-u-c/02-Homework/02-Python/Instructions/PyBank/Resources/budget_data.csv')\n",
    "\n",
    "\n",
    "month_total = 0\n",
    "total_profit = 0 \n",
    "prior_profit = 0\n",
    "change_profit = 0\n",
    "total_change_profit = 0\n",
    "greatest_increase_profit = 0 \n",
    "greatest_decrease_profit = 0 \n",
    "greatest_increase_month = []\n",
    "greatest_decrease_month = []\n",
    "\n",
    "with open(csvpath, 'r') as csvfile:\n",
    "    csvreader = csv.reader(csvfile, delimiter=',')\n",
    "    \n",
    "    next(csvreader)\n",
    "  \n",
    "    for row in csvreader:\n",
    "        profit = int(row[1])\n",
    "        \n",
    "        if prior_profit != 0:\n",
    "            change_profit = profit - prior_profit\n",
    "            total_change_profit = total_change_profit + change_profit\n",
    "        total_profit = total_profit + profit\n",
    "                        \n",
    "        month_total = month_total + 1\n",
    "                     \n",
    "        if change_profit > greatest_increase_profit:\n",
    "            greatest_increase_month = row[0]\n",
    "            greatest_increase_profit = change_profit\n",
    "        elif change_profit < greatest_decrease_profit:\n",
    "            greatest_decrease_month = row[0]\n",
    "            greatest_decrease_profit = change_profit\n",
    "        prior_profit = profit\n",
    "\n",
    "  \n",
    "        \n",
    "    \n",
    "    \n",
    "    \n",
    "\n",
    "    print(\"Financial Analysis\")\n",
    "    print(\"----------------------\")\n",
    "    print(f\"Total Months: {month_total}\")\n",
    "    print(f\"Total: ${total_profit}\")\n",
    "    print(f\"Average Change: ${round(total_change_profit / (month_total - 1), 2)}\") \n",
    "    print(f\"Greatest Increase in Profits: {greatest_increase_month} (${greatest_increase_profit})\")\n",
    "    print(f\"Greatest Decrease in Profits: {greatest_decrease_month} (${greatest_decrease_profit})\")\n",
    "    \n",
    "\n",
    "output_path = Path('financial_analysis.txt')\n",
    "\n",
    "with open(output_path, 'w') as file:\n",
    "    file.write(f\"Financial Analysis\\n\")\n",
    "    file.write(f\"----------------------------\\n\")\n",
    "    file.write(f\"Total Months: {month_total} \\n\")\n",
    "    file.write(f\"Total: ${total_profit}\\n\")\n",
    "    file.write(f\"Average Change: ${round(total_change_profit / (month_total - 1), 2)}\\n\")\n",
    "    file.write(f\"Greatest Increase in Profits: {greatest_increase_month} (${greatest_increase_profit}) \\n\")\n",
    "    file.write(f\"Greatest Decrease in Profits: {greatest_decrease_month} (${greatest_decrease_profit}) \\n\")   "
   ]
  },
  {
   "cell_type": "code",
   "execution_count": null,
   "id": "2456ead0-5f17-4609-8c27-e00c59a5e45d",
   "metadata": {},
   "outputs": [],
   "source": []
  },
  {
   "cell_type": "code",
   "execution_count": null,
   "id": "9301b269-f8a4-4d03-a7fc-f9417b079af7",
   "metadata": {},
   "outputs": [],
   "source": []
  },
  {
   "cell_type": "code",
   "execution_count": null,
   "id": "839d5e36-ef5d-4d9a-b94c-32601c35394e",
   "metadata": {},
   "outputs": [],
   "source": []
  },
  {
   "cell_type": "code",
   "execution_count": null,
   "id": "a9e2b82d-0a90-45f0-84a3-be160ee56652",
   "metadata": {},
   "outputs": [],
   "source": []
  },
  {
   "cell_type": "code",
   "execution_count": null,
   "id": "d601c6a0-a6bc-4db7-b0d1-c3760fdfda41",
   "metadata": {},
   "outputs": [],
   "source": []
  },
  {
   "cell_type": "code",
   "execution_count": null,
   "id": "ac717a11-5ced-48d4-a565-7e97559334fe",
   "metadata": {},
   "outputs": [],
   "source": []
  },
  {
   "cell_type": "code",
   "execution_count": null,
   "id": "eda16908-6a17-4e95-8ec3-44cd5cb61cb0",
   "metadata": {},
   "outputs": [],
   "source": []
  }
 ],
 "metadata": {
  "kernelspec": {
   "display_name": "Python 3 (ipykernel)",
   "language": "python",
   "name": "python3"
  },
  "language_info": {
   "codemirror_mode": {
    "name": "ipython",
    "version": 3
   },
   "file_extension": ".py",
   "mimetype": "text/x-python",
   "name": "python",
   "nbconvert_exporter": "python",
   "pygments_lexer": "ipython3",
   "version": "3.8.8"
  }
 },
 "nbformat": 4,
 "nbformat_minor": 5
}
