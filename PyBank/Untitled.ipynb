{
 "cells": [
  {
   "cell_type": "code",
   "execution_count": null,
   "id": "703133cd-f3c5-4947-8423-d72fce08e338",
   "metadata": {},
   "outputs": [],
   "source": []
  },
  {
   "cell_type": "code",
   "execution_count": null,
   "id": "9179cbf8-a61f-4042-9985-a76c7069835f",
   "metadata": {},
   "outputs": [],
   "source": []
  },
  {
   "cell_type": "code",
   "execution_count": 3,
   "id": "771c0a71-d8e1-40ed-ac8c-7808694f0c97",
   "metadata": {},
   "outputs": [
    {
     "ename": "NameError",
     "evalue": "name 'total_months' is not defined",
     "output_type": "error",
     "traceback": [
      "\u001b[1;31m---------------------------------------------------------------------------\u001b[0m",
      "\u001b[1;31mNameError\u001b[0m                                 Traceback (most recent call last)",
      "\u001b[1;32m~\\AppData\\Local\\Temp/ipykernel_16776/3704474332.py\u001b[0m in \u001b[0;36m<module>\u001b[1;34m\u001b[0m\n\u001b[0;32m     26\u001b[0m         \u001b[0mtotal_amount\u001b[0m \u001b[1;33m=\u001b[0m \u001b[0mtotal_amount\u001b[0m \u001b[1;33m+\u001b[0m \u001b[0mamount\u001b[0m\u001b[1;33m\u001b[0m\u001b[1;33m\u001b[0m\u001b[0m\n\u001b[0;32m     27\u001b[0m \u001b[1;33m\u001b[0m\u001b[0m\n\u001b[1;32m---> 28\u001b[1;33m         \u001b[0mtotal_months\u001b[0m \u001b[1;33m=\u001b[0m \u001b[0mtotal_months\u001b[0m \u001b[1;33m+\u001b[0m \u001b[1;36m1\u001b[0m\u001b[1;33m\u001b[0m\u001b[1;33m\u001b[0m\u001b[0m\n\u001b[0m\u001b[0;32m     29\u001b[0m \u001b[1;33m\u001b[0m\u001b[0m\n\u001b[0;32m     30\u001b[0m         \u001b[1;32mif\u001b[0m \u001b[0mc_delta\u001b[0m \u001b[1;33m>\u001b[0m \u001b[0mgreatest_increase_profit\u001b[0m\u001b[1;33m:\u001b[0m\u001b[1;33m\u001b[0m\u001b[1;33m\u001b[0m\u001b[0m\n",
      "\u001b[1;31mNameError\u001b[0m: name 'total_months' is not defined"
     ]
    }
   ],
   "source": [
    "from pathlib import Path\n",
    "import csv\n",
    "csvpath = Path('C:/Users/jonat/uofm-virt-fin-pt-12-2021-u-c/02-Homework/02-Python/Instructions/PyBank/Resources/budget_data.csv')\n",
    "\n",
    "\n",
    "\n",
    "analysis = []\n",
    "previous_amount = 0 \n",
    "total_amount = 0\n",
    "t_delta = 0\n",
    "max_profit_month = [] \n",
    "max_profit_amount = 0 \n",
    "max_loss_month = []\n",
    "max_loss_amount = 0\n",
    "c_delta = 0\n",
    "\n",
    "with open(csvpath, 'r') as csvfile:\n",
    "    csvreader = csv.reader(csvfile, delimiter=',')\n",
    "    next(csvreader)\n",
    "  \n",
    "    for row in csvreader:\n",
    "        amount = int(row[1])\n",
    "        if previous_amount != 0:\n",
    "            c_delta = amount - previous_amount\n",
    "            t_delta = t_delta + c_delta\n",
    "        total_amount = total_amount + amount\n",
    "                        \n",
    "        total_months = total_months + 1\n",
    "                     \n",
    "        if c_delta > greatest_increase_profit:\n",
    "            greatest_increase_month = row[0]\n",
    "            greatest_increase_profit = change_profit\n",
    "        elif c_delta < max_profit_amount:\n",
    "            max_loss_month = row[0]\n",
    "            max_loss_amount = change_delta\n",
    "        previous_amount = amount\n",
    "\n",
    "  \n",
    "        \n",
    "    \n",
    "    \n",
    "    \n",
    "\n",
    "    print(\"Financial Analysis\")\n",
    "    print(\"----------------------\")\n",
    "    print(f\"Total Months: {total_months}\")\n",
    "    print(f\"Total: ${total_amount}\")\n",
    "    print(f\"Average Change: ${round(total_delta / (total_months - 1), 2)}\")"
   ]
  },
  {
   "cell_type": "code",
   "execution_count": null,
   "id": "c224cfac-c0aa-4ce9-ad75-d3d4451ae64e",
   "metadata": {},
   "outputs": [],
   "source": []
  }
 ],
 "metadata": {
  "kernelspec": {
   "display_name": "Python 3 (ipykernel)",
   "language": "python",
   "name": "python3"
  },
  "language_info": {
   "codemirror_mode": {
    "name": "ipython",
    "version": 3
   },
   "file_extension": ".py",
   "mimetype": "text/x-python",
   "name": "python",
   "nbconvert_exporter": "python",
   "pygments_lexer": "ipython3",
   "version": "3.8.8"
  }
 },
 "nbformat": 4,
 "nbformat_minor": 5
}
