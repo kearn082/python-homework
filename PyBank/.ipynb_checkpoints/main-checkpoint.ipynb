{
 "cells": [
  {
   "cell_type": "code",
   "execution_count": 43,
   "id": "be1e4e76-2ad2-4cde-b5fb-ad81890aa321",
   "metadata": {},
   "outputs": [
    {
     "name": "stdout",
     "output_type": "stream",
     "text": [
      "Total Months 86\n",
      "Total: $38382578\n"
     ]
    }
   ],
   "source": [
    "from pathlib import Path\n",
    "import csv\n",
    "csvpath = Path('C:/Users/jonat/uofm-virt-fin-pt-12-2021-u-c/02-Homework/02-Python/Instructions/PyBank/Resources/budget_data.csv')\n",
    "\n",
    "pnl = []\n",
    "month_num = 0\n",
    "pnl_total = 0 \n",
    "\n",
    "with open(csvpath, 'r') as csvfile:\n",
    "    csvreader = csv.reader(csvfile, delimiter=',')\n",
    "    \n",
    "    header = next(csvreader)\n",
    "  \n",
    "    for row in csvreader:\n",
    "        pnl = int(row[1])\n",
    "        pnl_total += pnl\n",
    "        month_num += 1\n",
    "     \n",
    "\n",
    "    \n",
    "    print(f\"Total Months {month_num}\")\n",
    "    print(f\"Total: ${pnl_total}\")\n"
   ]
  },
  {
   "cell_type": "code",
   "execution_count": null,
   "id": "9301b269-f8a4-4d03-a7fc-f9417b079af7",
   "metadata": {},
   "outputs": [],
   "source": []
  },
  {
   "cell_type": "code",
   "execution_count": null,
   "id": "839d5e36-ef5d-4d9a-b94c-32601c35394e",
   "metadata": {},
   "outputs": [],
   "source": []
  },
  {
   "cell_type": "code",
   "execution_count": null,
   "id": "a9e2b82d-0a90-45f0-84a3-be160ee56652",
   "metadata": {},
   "outputs": [],
   "source": []
  },
  {
   "cell_type": "code",
   "execution_count": null,
   "id": "d601c6a0-a6bc-4db7-b0d1-c3760fdfda41",
   "metadata": {},
   "outputs": [],
   "source": []
  },
  {
   "cell_type": "code",
   "execution_count": null,
   "id": "ac717a11-5ced-48d4-a565-7e97559334fe",
   "metadata": {},
   "outputs": [],
   "source": []
  },
  {
   "cell_type": "code",
   "execution_count": null,
   "id": "eda16908-6a17-4e95-8ec3-44cd5cb61cb0",
   "metadata": {},
   "outputs": [],
   "source": []
  }
 ],
 "metadata": {
  "kernelspec": {
   "display_name": "Python 3 (ipykernel)",
   "language": "python",
   "name": "python3"
  },
  "language_info": {
   "codemirror_mode": {
    "name": "ipython",
    "version": 3
   },
   "file_extension": ".py",
   "mimetype": "text/x-python",
   "name": "python",
   "nbconvert_exporter": "python",
   "pygments_lexer": "ipython3",
   "version": "3.8.8"
  }
 },
 "nbformat": 4,
 "nbformat_minor": 5
}
